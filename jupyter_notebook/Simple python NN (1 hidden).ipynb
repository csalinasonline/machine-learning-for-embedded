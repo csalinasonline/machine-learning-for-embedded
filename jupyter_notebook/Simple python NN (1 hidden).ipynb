{
 "cells": [
  {
   "cell_type": "markdown",
   "metadata": {},
   "source": [
    "# Simple NN in python with 1 hidden layer\n",
    "\n",
    "This NN model is a naive implementation of a Neural Network in Python and is going to be used to train and then compare and test with a few embedded platforms. The class code is taken from [here](https://github.com/llSourcell/Make_a_neural_network/blob/master/demo.py).\n",
    "\n",
    "## Prerequisites\n",
    "You need to install jupyter notebook for this example to run. The easiest way is to install miniconda and then use conda to install nupmy and jupyter."
   ]
  },
  {
   "cell_type": "code",
   "execution_count": 14,
   "metadata": {},
   "outputs": [],
   "source": [
    "import numpy as np"
   ]
  },
  {
   "cell_type": "code",
   "execution_count": 116,
   "metadata": {},
   "outputs": [],
   "source": [
    "class NeuralNetwork():\n",
    "    def __init__(self, training_set_inputs, training_set_outputs):\n",
    "        \n",
    "        self.input = training_set_inputs\n",
    "        self.y = training_set_outputs\n",
    "        \n",
    "        # Seed the random number generator, so it generates the same numbers\n",
    "        # every time the program runs.\n",
    "        np.random.seed(1)\n",
    "        # Create a 3-4-1 network\n",
    "        self.weights1   = np.random.rand(self.input.shape[1],32) \n",
    "        self.weights2   = np.random.rand(32,1)\n",
    "\n",
    "    # The Sigmoid function, which describes an S shaped curve.\n",
    "    # We pass the weighted sum of the inputs through this function to\n",
    "    # normalise them between 0 and 1.\n",
    "    def __sigmoid(self, x):\n",
    "        return 1 / (1 + np.exp(-x))\n",
    "\n",
    "    # The derivative of the Sigmoid function.\n",
    "    # This is the gradient of the Sigmoid curve.\n",
    "    # It indicates how confident we are about the existing weight.\n",
    "    def __sigmoid_derivative(self, x):\n",
    "        return x * (1 - x)\n",
    "\n",
    "    # We train the neural network through a process of trial and error.\n",
    "    # Adjusting the synaptic weights each time.\n",
    "    def train(self, training_set_inputs, training_set_outputs, number_of_training_iterations):\n",
    "        for iteration in range(number_of_training_iterations):\n",
    "            # Pass the training set through the hidden layer\n",
    "            output = self.__sigmoid(np.dot(training_set_inputs, self.weights1))\n",
    "            # 2nd layer\n",
    "            output2 = self.__sigmoid(np.dot(output, self.weights2))\n",
    "\n",
    "            # Calculate the error (The difference between the desired output\n",
    "            # and the predicted output).\n",
    "            error = training_set_outputs - output2\n",
    "\n",
    "            # Multiply the error by the input and again by the gradient of the Sigmoid curve.\n",
    "            # This means less confident weights are adjusted more.\n",
    "            # This means inputs, which are zero, do not cause changes to the weights.            \n",
    "            d_weights2 = np.dot(output.T, (2*(self.y - output2) * self.__sigmoid_derivative(output2)))\n",
    "            d_weights1 = np.dot(training_set_inputs.T,  (np.dot(2*(self.y - output2) * self.__sigmoid_derivative(output2), self.weights2.T) * self.__sigmoid_derivative(output)))\n",
    "\n",
    "            # Adjust the weights.\n",
    "            self.weights1 += d_weights1\n",
    "            self.weights2 += d_weights2\n",
    "\n",
    "    # The neural network predicts.\n",
    "    def predict(self, inputs):\n",
    "        output = self.__sigmoid(np.dot(inputs, self.weights1))\n",
    "        # 2nd layer\n",
    "        return self.__sigmoid(np.dot(output, self.weights2))\n"
   ]
  },
  {
   "cell_type": "markdown",
   "metadata": {},
   "source": [
    "## 1. Create a labeled train set with data and labels.\n",
    "\n",
    "Now we need to create our input data and then label them. In this case `label` just means the output, so we have two labels 0 and 1, or you can just think of these labels as binary outputs, in this case. The data are those on the next table:\n",
    "\n",
    "D2 | D1 | D0 | Label\n",
    "-|-|-|-\n",
    "0 | 0 | 1 | 0\n",
    "1 | 1 | 1 | 1\n",
    "1 | 0 | 1 | 1\n",
    "0 | 1 | 1 | 0\n",
    "\n",
    "In Python the above table is translated to those two arrays:"
   ]
  },
  {
   "cell_type": "code",
   "execution_count": 117,
   "metadata": {},
   "outputs": [],
   "source": [
    "training_set_inputs = np.array([[0, 0, 1], [1, 1, 1], [1, 0, 1], [0, 1, 1]])\n",
    "training_set_outputs = np.array([[0, 1, 1, 0]]).T"
   ]
  },
  {
   "cell_type": "markdown",
   "metadata": {},
   "source": [
    "## 2. Intialise a single neuron neural network\n",
    "\n",
    "First we need to create an `NeuralNetwork` object and initialize it. In this case initialization means that the weights will get a random value, but with using a constant seed, so the weights are re-producable per run."
   ]
  },
  {
   "cell_type": "code",
   "execution_count": 118,
   "metadata": {},
   "outputs": [],
   "source": [
    "neural_network = NeuralNetwork(training_set_inputs, training_set_outputs)"
   ]
  },
  {
   "cell_type": "code",
   "execution_count": 119,
   "metadata": {},
   "outputs": [
    {
     "name": "stdout",
     "output_type": "stream",
     "text": [
      "Random starting synaptic weights:\n",
      "[[4.17022005e-01 7.20324493e-01 1.14374817e-04 3.02332573e-01\n",
      "  1.46755891e-01 9.23385948e-02 1.86260211e-01 3.45560727e-01\n",
      "  3.96767474e-01 5.38816734e-01 4.19194514e-01 6.85219500e-01\n",
      "  2.04452250e-01 8.78117436e-01 2.73875932e-02 6.70467510e-01\n",
      "  4.17304802e-01 5.58689828e-01 1.40386939e-01 1.98101489e-01\n",
      "  8.00744569e-01 9.68261576e-01 3.13424178e-01 6.92322616e-01\n",
      "  8.76389152e-01 8.94606664e-01 8.50442114e-02 3.90547832e-02\n",
      "  1.69830420e-01 8.78142503e-01 9.83468338e-02 4.21107625e-01]\n",
      " [9.57889530e-01 5.33165285e-01 6.91877114e-01 3.15515631e-01\n",
      "  6.86500928e-01 8.34625672e-01 1.82882773e-02 7.50144315e-01\n",
      "  9.88861089e-01 7.48165654e-01 2.80443992e-01 7.89279328e-01\n",
      "  1.03226007e-01 4.47893526e-01 9.08595503e-01 2.93614148e-01\n",
      "  2.87775339e-01 1.30028572e-01 1.93669579e-02 6.78835533e-01\n",
      "  2.11628116e-01 2.65546659e-01 4.91573159e-01 5.33625451e-02\n",
      "  5.74117605e-01 1.46728575e-01 5.89305537e-01 6.99758360e-01\n",
      "  1.02334429e-01 4.14055988e-01 6.94400158e-01 4.14179270e-01]\n",
      " [4.99534589e-02 5.35896406e-01 6.63794645e-01 5.14889112e-01\n",
      "  9.44594756e-01 5.86555041e-01 9.03401915e-01 1.37474704e-01\n",
      "  1.39276347e-01 8.07391289e-01 3.97676837e-01 1.65354197e-01\n",
      "  9.27508580e-01 3.47765860e-01 7.50812103e-01 7.25997985e-01\n",
      "  8.83306091e-01 6.23672207e-01 7.50942434e-01 3.48898342e-01\n",
      "  2.69927892e-01 8.95886218e-01 4.28091190e-01 9.64840047e-01\n",
      "  6.63441498e-01 6.21695720e-01 1.14745973e-01 9.49489259e-01\n",
      "  4.49912133e-01 5.78389614e-01 4.08136803e-01 2.37026980e-01]]\n"
     ]
    }
   ],
   "source": [
    "print(\"Random starting synaptic weights:\")\n",
    "print(neural_network.weights1)"
   ]
  },
  {
   "cell_type": "markdown",
   "metadata": {},
   "source": [
    "## 3. Train the neural network. using a training set.\n",
    "\n",
    "Now using the above training set we can train our NN. To do that we can run it 10,000 times and make small adjustments each time."
   ]
  },
  {
   "cell_type": "code",
   "execution_count": 120,
   "metadata": {},
   "outputs": [
    {
     "name": "stdout",
     "output_type": "stream",
     "text": [
      "New synaptic weights after training: \n",
      "\n",
      "[[ 1.5519611   1.06265208 -2.30455417  0.30877321 -1.17039621 -0.69348733\n",
      "   0.40589165 -0.05932593  1.392689    0.48329391 -0.95295493  2.10166106\n",
      "  -0.08448525  2.540211   -1.84539917 -0.01802026  0.92427558  1.08965851\n",
      "  -1.82176436  0.45220284  2.14035487  1.82177898  0.62309348 -0.05199235\n",
      "   0.29694869  0.39180283 -1.72233784 -1.70252288  0.78278019  1.28860736\n",
      "  -0.47323461  1.49427898]\n",
      " [ 0.65860842  0.31949065  0.30591339  0.13609545  0.37650795  0.60220631\n",
      "  -0.18831817  0.59004868  0.70259631  0.60207043  0.07404055  0.39611358\n",
      "  -0.10317019  0.05323626  0.48765352  0.18219485  0.04736742 -0.0801783\n",
      "  -0.20573879  0.4997675  -0.03879152 -0.11746983  0.30696019 -0.05282913\n",
      "   0.54693956  0.07674308  0.36036508  0.30217376 -0.07366525  0.17580282\n",
      "   0.48374213  0.191315  ]\n",
      " [-0.85158313 -0.13750623  0.7240955   0.06030529  0.68144084  0.28797794\n",
      "   0.35705378 -0.1701374  -0.74218012  0.38431145  0.3302735  -1.00823685\n",
      "   0.53841852 -1.06332893  0.5685712   0.62404852  0.12561239 -0.08860555\n",
      "   0.780304   -0.18653686 -0.80268326 -0.36502932 -0.13735078  0.91758557\n",
      "   0.69834386  0.54732749  0.28150989  0.69514718 -0.16997775 -0.17742198\n",
      "   0.08422625 -0.6043115 ]]\n"
     ]
    }
   ],
   "source": [
    "neural_network.train(training_set_inputs, training_set_outputs, 10000)\n",
    "\n",
    "print(\"New weights_1 after training: \\n\")\n",
    "print(neural_network.weights1)"
   ]
  },
  {
   "cell_type": "code",
   "execution_count": 123,
   "metadata": {},
   "outputs": [
    {
     "name": "stdout",
     "output_type": "stream",
     "text": [
      "New weights_2 after training: \n",
      "\n",
      "[[ 1.45800076]\n",
      " [ 0.70967606]\n",
      " [-2.68516009]\n",
      " [ 0.02268129]\n",
      " [-1.49619033]\n",
      " [-0.91787325]\n",
      " [ 0.09344477]\n",
      " [-0.29547836]\n",
      " [ 1.28547469]\n",
      " [ 0.04046954]\n",
      " [-1.29961045]\n",
      " [ 2.02908422]\n",
      " [-0.42753493]\n",
      " [ 2.49285692]\n",
      " [-2.11993655]\n",
      " [-0.59068471]\n",
      " [ 0.62114759]\n",
      " [ 0.76446439]\n",
      " [-2.22804807]\n",
      " [ 0.25244996]\n",
      " [ 1.9591224 ]\n",
      " [ 1.53351039]\n",
      " [ 0.37624935]\n",
      " [-0.74102723]\n",
      " [-0.48484892]\n",
      " [-0.2683768 ]\n",
      " [-2.020174  ]\n",
      " [-1.99787033]\n",
      " [ 0.54688533]\n",
      " [ 0.90035289]\n",
      " [-0.67413096]\n",
      " [ 1.31408841]]\n"
     ]
    }
   ],
   "source": [
    "print(\"New weights_2 after training: \\n\")\n",
    "print(neural_network.weights2)"
   ]
  },
  {
   "cell_type": "markdown",
   "metadata": {},
   "source": [
    "## 4. Test the trained model\n",
    "\n",
    "Now that we have a trained NN, we can test it by passing input data that it doesn't know about.\n"
   ]
  },
  {
   "cell_type": "code",
   "execution_count": 121,
   "metadata": {},
   "outputs": [],
   "source": [
    "# All possible inputs\n",
    "inputs = np.array([\n",
    "    [0,0,0],\n",
    "    [0,0,1],\n",
    "    [0,1,0],\n",
    "    [0,1,1],\n",
    "    [1,0,0],\n",
    "    [1,0,1],\n",
    "    [1,1,0],\n",
    "    [1,1,1]])"
   ]
  },
  {
   "cell_type": "code",
   "execution_count": 122,
   "metadata": {},
   "outputs": [
    {
     "name": "stdout",
     "output_type": "stream",
     "text": [
      "[0 0 0] = [0.28424671]\n",
      "[0 0 1] = [0.00297735]\n",
      "[0 1 0] = [0.21864649]\n",
      "[0 1 1] = [0.00229043]\n",
      "[1 0 0] = [0.99992042]\n",
      "[1 0 1] = [0.99799112]\n",
      "[1 1 0] = [0.99988018]\n",
      "[1 1 1] = [0.99720236]\n"
     ]
    }
   ],
   "source": [
    "for i in range(0, 8):\n",
    "    print(\"{} = {}\".format(inputs[i], neural_network.predict(inputs[i])))"
   ]
  },
  {
   "cell_type": "code",
   "execution_count": null,
   "metadata": {},
   "outputs": [],
   "source": [
    "\n",
    "\n",
    "\n",
    "\n",
    "\n",
    "\n",
    "\n"
   ]
  }
 ],
 "metadata": {
  "kernelspec": {
   "display_name": "Python 3",
   "language": "python",
   "name": "python3"
  },
  "language_info": {
   "codemirror_mode": {
    "name": "ipython",
    "version": 3
   },
   "file_extension": ".py",
   "mimetype": "text/x-python",
   "name": "python",
   "nbconvert_exporter": "python",
   "pygments_lexer": "ipython3",
   "version": "3.7.3"
  }
 },
 "nbformat": 4,
 "nbformat_minor": 2
}
