{
 "cells": [
  {
   "cell_type": "markdown",
   "metadata": {},
   "source": [
    "# Simple NN in python\n",
    "\n",
    "This NN model is a naive implementation of a Neural Network in Python and is going to be used to train and then compare and test with a few embedded platforms. The class code is taken from [here](https://github.com/llSourcell/Make_a_neural_network/blob/master/demo.py).\n",
    "\n",
    "## Prerequisites\n",
    "You need to install jupyter notebook for this example to run. The easiest way is to install miniconda and then use conda to install nupmy and jupyter."
   ]
  },
  {
   "cell_type": "code",
   "execution_count": 52,
   "metadata": {},
   "outputs": [],
   "source": [
    "import numpy as np"
   ]
  },
  {
   "cell_type": "code",
   "execution_count": 53,
   "metadata": {},
   "outputs": [],
   "source": [
    "class NeuralNetwork():\n",
    "    def __init__(self, training_set_inputs, training_set_outputs, num_of_hidden_nodes):\n",
    "        \n",
    "        self.input = training_set_inputs\n",
    "        self.y = training_set_outputs\n",
    "        \n",
    "        # Seed the random number generator, so it generates the same numbers\n",
    "        # every time the program runs.\n",
    "        np.random.seed(1)\n",
    "        # Create a 3-4-1 network\n",
    "        self.weights1   = np.random.rand(self.input.shape[1],num_of_hidden_nodes) \n",
    "        self.weights2   = np.random.rand(num_of_hidden_nodes,1)\n",
    "\n",
    "    # The Sigmoid function, which describes an S shaped curve.\n",
    "    # We pass the weighted sum of the inputs through this function to\n",
    "    # normalise them between 0 and 1.\n",
    "    def __sigmoid(self, x):\n",
    "        return 1 / (1 + np.exp(-x))\n",
    "\n",
    "    # The derivative of the Sigmoid function.\n",
    "    # This is the gradient of the Sigmoid curve.\n",
    "    # It indicates how confident we are about the existing weight.\n",
    "    def __sigmoid_derivative(self, x):\n",
    "        return x * (1 - x)\n",
    "\n",
    "    # We train the neural network through a process of trial and error.\n",
    "    # Adjusting the synaptic weights each time.\n",
    "    def train(self, training_set_inputs, training_set_outputs, number_of_training_iterations):\n",
    "        for iteration in range(number_of_training_iterations):\n",
    "            # Pass the training set through the hidden layer\n",
    "            output = self.__sigmoid(np.dot(training_set_inputs, self.weights1))\n",
    "            # 2nd layer\n",
    "            output2 = self.__sigmoid(np.dot(output, self.weights2))\n",
    "\n",
    "            # Calculate the error (The difference between the desired output\n",
    "            # and the predicted output).\n",
    "            error = training_set_outputs - output2\n",
    "\n",
    "            # Multiply the error by the input and again by the gradient of the Sigmoid curve.\n",
    "            # This means less confident weights are adjusted more.\n",
    "            # This means inputs, which are zero, do not cause changes to the weights.            \n",
    "            d_weights2 = np.dot(output.T, (2*(self.y - output2) * self.__sigmoid_derivative(output2)))\n",
    "            d_weights1 = np.dot(training_set_inputs.T,  (np.dot(2*(self.y - output2) * self.__sigmoid_derivative(output2), self.weights2.T) * self.__sigmoid_derivative(output)))\n",
    "\n",
    "            # Adjust the weights.\n",
    "            self.weights1 += d_weights1\n",
    "            self.weights2 += d_weights2\n",
    "\n",
    "    # The neural network predicts.\n",
    "    def predict(self, inputs, debug=False):\n",
    "        output = self.__sigmoid(np.dot(inputs, self.weights1))\n",
    "        if debug:\n",
    "            print(output)\n",
    "        # 2nd layer\n",
    "        return self.__sigmoid(np.dot(output, self.weights2))\n"
   ]
  },
  {
   "cell_type": "markdown",
   "metadata": {},
   "source": [
    "## 1. Create a labeled train set with data and labels.\n",
    "\n",
    "Now we need to create our input data and then label them. In this case `label` just means the output, so we have two labels 0 and 1, or you can just think of these labels as binary outputs, in this case. The data are those on the next table:\n",
    "\n",
    "D2 | D1 | D0 | Label\n",
    "-|-|-|-\n",
    "0 | 0 | 1 | 0\n",
    "1 | 1 | 1 | 1\n",
    "1 | 0 | 1 | 1\n",
    "0 | 1 | 1 | 0\n",
    "\n",
    "In Python the above table is translated to those two arrays:"
   ]
  },
  {
   "cell_type": "code",
   "execution_count": 54,
   "metadata": {},
   "outputs": [],
   "source": [
    "training_set_inputs = np.array([[0, 0, 1], [1, 1, 1], [1, 0, 1], [0, 1, 1]])\n",
    "training_set_outputs = np.array([[0, 1, 1, 0]]).T"
   ]
  },
  {
   "cell_type": "markdown",
   "metadata": {},
   "source": [
    "## 2. Intialise a single neuron neural network\n",
    "\n",
    "First we need to create an `NeuralNetwork` object and initialize it. In this case initialization means that the weights will get a random value, but with using a constant seed, so the weights are re-producable per run."
   ]
  },
  {
   "cell_type": "code",
   "execution_count": 55,
   "metadata": {},
   "outputs": [],
   "source": [
    "neural_network = NeuralNetwork(training_set_inputs, training_set_outputs, 32)"
   ]
  },
  {
   "cell_type": "markdown",
   "metadata": {},
   "source": [
    "#### Weights 1:"
   ]
  },
  {
   "cell_type": "code",
   "execution_count": 43,
   "metadata": {},
   "outputs": [
    {
     "name": "stdout",
     "output_type": "stream",
     "text": [
      "[[4.17022005e-01 7.20324493e-01 1.14374817e-04 3.02332573e-01\n",
      "  1.46755891e-01 9.23385948e-02 1.86260211e-01 3.45560727e-01\n",
      "  3.96767474e-01 5.38816734e-01 4.19194514e-01 6.85219500e-01\n",
      "  2.04452250e-01 8.78117436e-01 2.73875932e-02 6.70467510e-01\n",
      "  4.17304802e-01 5.58689828e-01 1.40386939e-01 1.98101489e-01\n",
      "  8.00744569e-01 9.68261576e-01 3.13424178e-01 6.92322616e-01\n",
      "  8.76389152e-01 8.94606664e-01 8.50442114e-02 3.90547832e-02\n",
      "  1.69830420e-01 8.78142503e-01 9.83468338e-02 4.21107625e-01]\n",
      " [9.57889530e-01 5.33165285e-01 6.91877114e-01 3.15515631e-01\n",
      "  6.86500928e-01 8.34625672e-01 1.82882773e-02 7.50144315e-01\n",
      "  9.88861089e-01 7.48165654e-01 2.80443992e-01 7.89279328e-01\n",
      "  1.03226007e-01 4.47893526e-01 9.08595503e-01 2.93614148e-01\n",
      "  2.87775339e-01 1.30028572e-01 1.93669579e-02 6.78835533e-01\n",
      "  2.11628116e-01 2.65546659e-01 4.91573159e-01 5.33625451e-02\n",
      "  5.74117605e-01 1.46728575e-01 5.89305537e-01 6.99758360e-01\n",
      "  1.02334429e-01 4.14055988e-01 6.94400158e-01 4.14179270e-01]\n",
      " [4.99534589e-02 5.35896406e-01 6.63794645e-01 5.14889112e-01\n",
      "  9.44594756e-01 5.86555041e-01 9.03401915e-01 1.37474704e-01\n",
      "  1.39276347e-01 8.07391289e-01 3.97676837e-01 1.65354197e-01\n",
      "  9.27508580e-01 3.47765860e-01 7.50812103e-01 7.25997985e-01\n",
      "  8.83306091e-01 6.23672207e-01 7.50942434e-01 3.48898342e-01\n",
      "  2.69927892e-01 8.95886218e-01 4.28091190e-01 9.64840047e-01\n",
      "  6.63441498e-01 6.21695720e-01 1.14745973e-01 9.49489259e-01\n",
      "  4.49912133e-01 5.78389614e-01 4.08136803e-01 2.37026980e-01]]\n"
     ]
    }
   ],
   "source": [
    "print(neural_network.weights1)"
   ]
  },
  {
   "cell_type": "markdown",
   "metadata": {},
   "source": [
    "#### Weights 2:"
   ]
  },
  {
   "cell_type": "code",
   "execution_count": 44,
   "metadata": {},
   "outputs": [
    {
     "name": "stdout",
     "output_type": "stream",
     "text": [
      "[[0.90337952]\n",
      " [0.57367949]\n",
      " [0.00287033]\n",
      " [0.61714491]\n",
      " [0.3266449 ]\n",
      " [0.5270581 ]\n",
      " [0.8859421 ]\n",
      " [0.35726976]\n",
      " [0.90853515]\n",
      " [0.62336012]\n",
      " [0.01582124]\n",
      " [0.92943723]\n",
      " [0.69089692]\n",
      " [0.99732285]\n",
      " [0.17234051]\n",
      " [0.13713575]\n",
      " [0.93259546]\n",
      " [0.69681816]\n",
      " [0.06600017]\n",
      " [0.75546305]\n",
      " [0.75387619]\n",
      " [0.92302454]\n",
      " [0.71152476]\n",
      " [0.12427096]\n",
      " [0.01988013]\n",
      " [0.02621099]\n",
      " [0.02830649]\n",
      " [0.24621107]\n",
      " [0.86002795]\n",
      " [0.53883106]\n",
      " [0.55282198]\n",
      " [0.84203089]]\n"
     ]
    }
   ],
   "source": [
    "print(neural_network.weights2)"
   ]
  },
  {
   "cell_type": "markdown",
   "metadata": {},
   "source": [
    "## 3. Train the neural network. using a training set.\n",
    "\n",
    "Now using the above training set we can train our NN. To do that we can run it 10,000 times and make small adjustments each time."
   ]
  },
  {
   "cell_type": "code",
   "execution_count": 49,
   "metadata": {},
   "outputs": [
    {
     "name": "stdout",
     "output_type": "stream",
     "text": [
      "New synaptic weights after training: \n",
      "\n",
      "[[ 1.59424182  0.65719524 -0.87078742]\n",
      " [ 1.08340352  0.31962716 -0.15005518]\n",
      " [-2.37247123  0.29594698  0.76194349]\n",
      " [ 0.3095739   0.1362358   0.06010926]\n",
      " [-1.22852238  0.35847517  0.68310723]\n",
      " [-0.72938725  0.59214467  0.29208906]\n",
      " [ 0.40912581 -0.18776742  0.35613284]\n",
      " [-0.07080192  0.58768645 -0.16795003]\n",
      " [ 1.43033567  0.70122635 -0.76031456]\n",
      " [ 0.48440023  0.6021348   0.3837008 ]\n",
      " [-1.00046419  0.06526647  0.34224763]\n",
      " [ 2.15398973  0.39447251 -1.03507566]\n",
      " [-0.10103213 -0.10666045  0.54098168]\n",
      " [ 2.59832631  0.0559867  -1.09502237]\n",
      " [-1.91192968  0.4700472   0.58837698]\n",
      " [-0.03869057  0.1780191   0.62805582]\n",
      " [ 0.94286902  0.04837725  0.11515252]\n",
      " [ 1.1140357  -0.07767457 -0.10010558]\n",
      " [-1.88515372 -0.20874231  0.80963432]\n",
      " [ 0.46128218  0.50101726 -0.18916382]\n",
      " [ 2.19199985 -0.03428263 -0.82915463]\n",
      " [ 1.86082832 -0.11721008 -0.39503689]\n",
      " [ 0.63634227  0.30862065 -0.14172493]\n",
      " [-0.07698548 -0.05818843  0.92128477]\n",
      " [ 0.28444551  0.54565376  0.70426302]\n",
      " [ 0.38342365  0.07567736  0.5505064 ]\n",
      " [-1.77896004  0.35356883  0.31536074]\n",
      " [-1.76940602  0.28504188  0.70847893]\n",
      " [ 0.80278557 -0.07015827 -0.17543508]\n",
      " [ 1.31370848  0.17547514 -0.19460156]\n",
      " [-0.49977904  0.47741694  0.08865751]\n",
      " [ 1.53484058  0.19439151 -0.62133204]]\n"
     ]
    }
   ],
   "source": [
    "neural_network.train(training_set_inputs, training_set_outputs, 10000)\n",
    "\n",
    "print(\"New synaptic weights after training: \\n\")\n",
    "print(neural_network.weights1.T)"
   ]
  },
  {
   "cell_type": "markdown",
   "metadata": {},
   "source": [
    "## 4. Test the trained model\n",
    "\n",
    "Now that we have a trained NN, we can test it by passing input data that it doesn't know about.\n"
   ]
  },
  {
   "cell_type": "code",
   "execution_count": 50,
   "metadata": {},
   "outputs": [],
   "source": [
    "# All possible inputs\n",
    "inputs = np.array([\n",
    "    [0,0,0],\n",
    "    [0,0,1],\n",
    "    [0,1,0],\n",
    "    [0,1,1],\n",
    "    [1,0,0],\n",
    "    [1,0,1],\n",
    "    [1,1,0],\n",
    "    [1,1,1]])"
   ]
  },
  {
   "cell_type": "code",
   "execution_count": 51,
   "metadata": {},
   "outputs": [
    {
     "name": "stdout",
     "output_type": "stream",
     "text": [
      "[0 0 0] = [0.26933375]\n",
      "[0 0 1] = [0.0019808]\n",
      "[0 1 0] = [0.21193171]\n",
      "[0 1 1] = [0.0015728]\n",
      "[1 0 0] = [0.99995267]\n",
      "[1 0 1] = [0.99861344]\n",
      "[1 1 0] = [0.99993064]\n",
      "[1 1 1] = [0.99813219]\n"
     ]
    }
   ],
   "source": [
    "for i in range(0, 8):\n",
    "    print(\"{} = {}\".format(inputs[i], neural_network.predict(inputs[i])))"
   ]
  },
  {
   "cell_type": "code",
   "execution_count": null,
   "metadata": {},
   "outputs": [],
   "source": []
  }
 ],
 "metadata": {
  "kernelspec": {
   "display_name": "Python 3",
   "language": "python",
   "name": "python3"
  },
  "language_info": {
   "codemirror_mode": {
    "name": "ipython",
    "version": 3
   },
   "file_extension": ".py",
   "mimetype": "text/x-python",
   "name": "python",
   "nbconvert_exporter": "python",
   "pygments_lexer": "ipython3",
   "version": "3.7.3"
  }
 },
 "nbformat": 4,
 "nbformat_minor": 2
}
